{
 "cells": [
  {
   "cell_type": "code",
   "execution_count": null,
   "metadata": {},
   "outputs": [],
   "source": [
    "import os\n",
    "import hashlib\n",
    "\n",
    "def hash_file(file_path, block_size=65536):\n",
    "    \"\"\"Generate a hash for a file.\"\"\"\n",
    "    hasher = hashlib.md5()\n",
    "    with open(file_path, 'rb') as f:\n",
    "        buf = f.read(block_size)\n",
    "        while len(buf) > 0:\n",
    "            hasher.update(buf)\n",
    "            buf = f.read(block_size)\n",
    "    return hasher.hexdigest()\n",
    "\n",
    "def delete_matching_images(main_frames_dir, discard_dir):\n",
    "    \"\"\"Delete files in main_frames_dir that match any file in discard_dir by content.\"\"\"\n",
    "    # Generate hash for each file in discard_dir\n",
    "    discard_hashes = set()\n",
    "    for root, _, files in os.walk(discard_dir):\n",
    "        for filename in files:\n",
    "            file_path = os.path.join(root, filename)\n",
    "            file_hash = hash_file(file_path)\n",
    "            discard_hashes.add(file_hash)\n",
    "    \n",
    "    # Compare files in main_frames_dir and delete if hash matches any in discard_hashes\n",
    "    for root, _, files in os.walk(main_frames_dir):\n",
    "        for filename in files:\n",
    "            file_path = os.path.join(root, filename)\n",
    "            file_hash = hash_file(file_path)\n",
    "            if file_hash in discard_hashes:\n",
    "                print(f\"Deleting {file_path}...\")\n",
    "                os.remove(file_path)\n",
    "\n",
    "# Example usage:\n",
    "\n"
   ]
  },
  {
   "cell_type": "code",
   "execution_count": null,
   "metadata": {},
   "outputs": [],
   "source": [
    "main_frames_dir = \"/media/coof/standardHDD/Veep2\"\n",
    "discard_dir = \"/media/coof/standardHDD/test\"\n",
    "delete_matching_images(main_frames_dir, discard_dir)"
   ]
  }
 ],
 "metadata": {
  "kernelspec": {
   "display_name": "venv",
   "language": "python",
   "name": "python3"
  },
  "language_info": {
   "codemirror_mode": {
    "name": "ipython",
    "version": 3
   },
   "file_extension": ".py",
   "mimetype": "text/x-python",
   "name": "python",
   "nbconvert_exporter": "python",
   "pygments_lexer": "ipython3",
   "version": "3.10.12"
  }
 },
 "nbformat": 4,
 "nbformat_minor": 2
}
