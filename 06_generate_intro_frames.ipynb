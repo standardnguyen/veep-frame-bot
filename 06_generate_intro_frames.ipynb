{
 "cells": [
  {
   "cell_type": "code",
   "execution_count": null,
   "metadata": {},
   "outputs": [],
   "source": [
    "import os\n",
    "import subprocess"
   ]
  },
  {
   "cell_type": "code",
   "execution_count": null,
   "metadata": {},
   "outputs": [],
   "source": [
    "def extract_frames_from_mkv(mkv_file, output_folder, frame_rate=1):\n",
    "    # Ensure the output directory exists\n",
    "    if not os.path.exists(output_folder):\n",
    "        os.makedirs(output_folder)\n",
    "\n",
    "    # Define the ffmpeg command\n",
    "    command = [\n",
    "        'ffmpeg',\n",
    "        '-i', mkv_file,              # Input file\n",
    "        '-vf', f'fps={frame_rate}',   # Frame rate (frames per second)\n",
    "        os.path.join(output_folder, 'frame_%04d.jpg')  # Output file format\n",
    "    ]\n",
    "\n",
    "    # Run the command\n",
    "    subprocess.run(command, check=True)"
   ]
  },
  {
   "cell_type": "code",
   "execution_count": null,
   "metadata": {},
   "outputs": [],
   "source": [
    "mkv_file = '/home/coof/Downloads/test2.mkv'\n",
    "output_folder = '/media/coof/standardHDD/IntroFrames'\n",
    "frame_rate = 60\n",
    "\n",
    "extract_frames_from_mkv(mkv_file, output_folder, frame_rate)"
   ]
  }
 ],
 "metadata": {
  "kernelspec": {
   "display_name": "venv",
   "language": "python",
   "name": "python3"
  },
  "language_info": {
   "codemirror_mode": {
    "name": "ipython",
    "version": 3
   },
   "file_extension": ".py",
   "mimetype": "text/x-python",
   "name": "python",
   "nbconvert_exporter": "python",
   "pygments_lexer": "ipython3",
   "version": "3.10.12"
  }
 },
 "nbformat": 4,
 "nbformat_minor": 2
}
