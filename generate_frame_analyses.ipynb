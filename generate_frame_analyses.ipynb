{
 "cells": [
  {
   "cell_type": "code",
   "execution_count": null,
   "metadata": {},
   "outputs": [],
   "source": [
    "import os\n",
    "import re\n",
    "import shutil\n",
    "import csv\n",
    "from frame_metrics import extract_frame_metrics"
   ]
  },
  {
   "cell_type": "code",
   "execution_count": null,
   "metadata": {},
   "outputs": [],
   "source": [
    "def process_videos(source_folder, output_folder):\n",
    "    # Regular expression pattern to match video files\n",
    "    pattern = re.compile(r'Veep \\(2012\\) - S(\\d{2})E(\\d{2}) - (.+) \\(\\d+p.+\\)\\.mkv')\n",
    "\n",
    "    # Loop over each season folder\n",
    "    for season in range(1, 8):\n",
    "        season_folder_name = f'Season {season}'\n",
    "        season_folder_path = os.path.join(source_folder, season_folder_name)\n",
    "        \n",
    "        # Check if the season folder exists\n",
    "        if not os.path.exists(season_folder_path):\n",
    "            print(f\"Source season folder {season_folder_path} does not exist. Skipping.\")\n",
    "            continue\n",
    "\n",
    "        # Create corresponding season folder in the output directory\n",
    "        output_season_path = os.path.join(output_folder, season_folder_name)\n",
    "        if not os.path.exists(output_season_path):\n",
    "            os.makedirs(output_season_path)\n",
    "            print(f\"Created folder: {output_season_path}\")\n",
    "\n",
    "        # Get a sorted list of files in the season folder\n",
    "        files_in_season = sorted(os.listdir(season_folder_path))\n",
    "\n",
    "        # Loop through each file in the sorted list\n",
    "        for file_name in files_in_season:\n",
    "            match = pattern.match(file_name)\n",
    "            if match:\n",
    "                episode_num = int(match.group(2))\n",
    "                episode_title = match.group(3)\n",
    "                # if episode_num != 8: continue\n",
    "                \n",
    "                # Define the new folder name\n",
    "                new_folder_name = f'Season {season} Episode {episode_num:02d} - {episode_title}'\n",
    "                episode_output_dir = os.path.join(output_season_path, new_folder_name)\n",
    "                \n",
    "                # Check if the directory already exists\n",
    "                if not os.path.exists(episode_output_dir) or not os.listdir(episode_output_dir):\n",
    "                    if not os.path.exists(episode_output_dir):\n",
    "                        os.makedirs(episode_output_dir)\n",
    "                        print(f\"Created folder: {episode_output_dir}\")\n",
    "\n",
    "                    # Run the key frame extraction\n",
    "                    video_path = os.path.join(season_folder_path, file_name)\n",
    "                    frame_metrics = extract_frame_metrics(video_path)\n",
    "                    csv_file_path = os.path.join(episode_output_dir, 'frame_metrics.csv')\n",
    "                    with open(csv_file_path, mode='w', newline='') as csv_file:\n",
    "                        # Create a CSV writer object\n",
    "                        writer = csv.writer(csv_file)\n",
    "\n",
    "                        # Write the header\n",
    "                        header = [\"frame_count\", \"ssim_overall\", \"ssim_top\", \"ssim_bottom\", \"histogram_similarity\"]\n",
    "                        writer.writerow(header)\n",
    "\n",
    "                        # Write the data rows\n",
    "                        for frame_count, metrics in frame_metrics.items():\n",
    "                            row = [\n",
    "                                frame_count,\n",
    "                                metrics[\"ssim_overall\"],\n",
    "                                metrics[\"ssim_top\"],\n",
    "                                metrics[\"ssim_bottom\"],\n",
    "                                metrics[\"histogram_similarity\"]\n",
    "                            ]\n",
    "                            writer.writerow(row)                    \n",
    "                else:\n",
    "                    print(f\"Skipping extraction for {file_name} as folder already has the xlsx.\")"
   ]
  },
  {
   "cell_type": "code",
   "execution_count": null,
   "metadata": {},
   "outputs": [],
   "source": [
    "source_folder = \"/media/coof/standardHDD/Veep\"\n",
    "output_folder = './VeepCSVs'\n",
    "process_videos(source_folder, output_folder)\n"
   ]
  }
 ],
 "metadata": {
  "kernelspec": {
   "display_name": "venv",
   "language": "python",
   "name": "python3"
  },
  "language_info": {
   "codemirror_mode": {
    "name": "ipython",
    "version": 3
   },
   "file_extension": ".py",
   "mimetype": "text/x-python",
   "name": "python",
   "nbconvert_exporter": "python",
   "pygments_lexer": "ipython3",
   "version": "3.10.12"
  }
 },
 "nbformat": 4,
 "nbformat_minor": 2
}
