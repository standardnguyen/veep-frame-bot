{
 "cells": [
  {
   "cell_type": "code",
   "execution_count": null,
   "metadata": {},
   "outputs": [],
   "source": [
    "import subprocess\n",
    "import os\n",
    "import re"
   ]
  },
  {
   "cell_type": "code",
   "execution_count": null,
   "metadata": {},
   "outputs": [],
   "source": [
    "def burn_pgs_subtitles_into_video(source_file, output_filepath):\n",
    "    \n",
    "    \n",
    "    # Command to burn subtitles, re-encode video, and exclude audio\n",
    "    ffmpeg_command = [\n",
    "        'ffmpeg',\n",
    "        '-i', source_file,\n",
    "        '-filter_complex', '[0:v][0:s:0]overlay',  # Overlay PGS subtitles (assuming first subtitle track)\n",
    "        '-preset', 'veryfast',  # Use veryslow preset for encoding speed\n",
    "        '-an',                  # Exclude audio\n",
    "        output_filepath\n",
    "    ]\n",
    "    \n",
    "    try:\n",
    "        # Execute the FFmpeg command\n",
    "        print(f\"Processing {source_file}...\")\n",
    "        subprocess.run(ffmpeg_command, check=True)\n",
    "        print(f\"Subtitled file created: {output_filepath}\")\n",
    "    except subprocess.CalledProcessError as e:\n",
    "        print(f\"Error processing {source_file}: {e}\")\n",
    "\n"
   ]
  },
  {
   "cell_type": "code",
   "execution_count": null,
   "metadata": {},
   "outputs": [],
   "source": [
    "def process(source_dir, destination_dir):\n",
    "    # Define the range of seasons (e.g., Season 1 to Season 7)\n",
    "    seasons = sorted([f\"Season {i}\" for i in range(1, 8)])\n",
    "\n",
    "    # Loop through each season folder\n",
    "    for i, season in enumerate(seasons):\n",
    "        season_path = os.path.join(source_dir, season)\n",
    "\n",
    "        # Check if the season directory exists\n",
    "        if not os.path.isdir(season_path):\n",
    "            print(f\"Directory {season_path} does not exist, skipping.\")\n",
    "            continue\n",
    "\n",
    "        # Create corresponding destination directory for the season\n",
    "        destination_season_path = os.path.join(destination_dir, season)\n",
    "        os.makedirs(destination_season_path, exist_ok=True)\n",
    "\n",
    "        # Get sorted list of files in the season folder\n",
    "        files = sorted(os.listdir(season_path))\n",
    "\n",
    "        # Process each file in the season folder\n",
    "        for j, filename in enumerate(files):\n",
    "            # Look for complete .mkv files\n",
    "            if filename.endswith('.mkv') and not filename.endswith('.mkv.part'):\n",
    "\n",
    "                pattern = r\"S\\d{2}E\\d{2} - [^()]+\"\n",
    "\n",
    "                match = re.search(pattern, filename)\n",
    "                if match:\n",
    "                    modified_filename = match.group(0)\n",
    "\n",
    "                video_file = os.path.join(season_path, filename)\n",
    "                sup_file = os.path.join(destination_season_path, modified_filename.strip(), \"subtitles.sup\")\n",
    "                csv_file = os.path.join(destination_season_path, modified_filename.strip(), \"subtitles.csv\")\n",
    "                xml_file = os.path.join(destination_season_path, modified_filename.strip(), \"subtitles.xml\")\n",
    "                burned_videofile = os.path.join(destination_season_path, modified_filename.strip(), \"video.mkv\")\n",
    "                if os.path.exists(burned_videofile): continue\n",
    "                burn_pgs_subtitles_into_video(video_file,burned_videofile)\n"
   ]
  },
  {
   "cell_type": "code",
   "execution_count": null,
   "metadata": {},
   "outputs": [],
   "source": [
    "# Specify the source and destination directories\n",
    "source_directory = \"/media/coof/standardHDD/Veep\"  # Replace with the path to your directory containing seasons\n",
    "destination_directory = \"/media/coof/standardHDD/Veep2\"\n",
    "\n",
    "# Call the function to burn subtitles\n",
    "process(source_directory, destination_directory)\n"
   ]
  }
 ],
 "metadata": {
  "kernelspec": {
   "display_name": "venv",
   "language": "python",
   "name": "python3"
  },
  "language_info": {
   "codemirror_mode": {
    "name": "ipython",
    "version": 3
   },
   "file_extension": ".py",
   "mimetype": "text/x-python",
   "name": "python",
   "nbconvert_exporter": "python",
   "pygments_lexer": "ipython3",
   "version": "3.10.12"
  }
 },
 "nbformat": 4,
 "nbformat_minor": 2
}
