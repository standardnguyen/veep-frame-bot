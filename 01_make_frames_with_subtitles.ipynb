{
 "cells": [
  {
   "cell_type": "code",
   "execution_count": null,
   "metadata": {},
   "outputs": [],
   "source": [
    "import os\n",
    "import subprocess\n",
    "import time\n"
   ]
  },
  {
   "cell_type": "code",
   "execution_count": null,
   "metadata": {},
   "outputs": [],
   "source": [
    "def burn_subtitles(source_dir, destination_dir):\n",
    "    # Define the range of seasons\n",
    "    seasons = sorted([f\"Season {i}\" for i in range(1, 8)])\n",
    "    \n",
    "    # Flag to track if .mkv.part files are found\n",
    "    mkv_part_found = True\n",
    "\n",
    "    # Continue running the loop until no .mkv.part files are found\n",
    "    while mkv_part_found:\n",
    "        mkv_part_found = False  # Reset flag\n",
    "\n",
    "        # Loop through each season folder\n",
    "        for season in seasons:\n",
    "            season_path = os.path.join(source_dir, season)\n",
    "            \n",
    "            # Check if the season directory exists\n",
    "            if not os.path.isdir(season_path):\n",
    "                print(f\"Directory {season_path} does not exist, skipping.\")\n",
    "                continue\n",
    "\n",
    "            # Create corresponding destination directory for the season\n",
    "            destination_season_path = os.path.join(destination_dir, season)\n",
    "            os.makedirs(destination_season_path, exist_ok=True)\n",
    "\n",
    "            # Get sorted list of files in the season folder\n",
    "            files = sorted(os.listdir(season_path))\n",
    "\n",
    "            # Process each file in the season folder\n",
    "            for filename in files:\n",
    "                # Look for complete .mkv files\n",
    "                if filename.endswith('.mkv'):\n",
    "                    if filename.endswith('.mkv.part'):\n",
    "                        mkv_part_found = True  # Found a .mkv.part file\n",
    "                        continue  # Skip .mkv.part files\n",
    "\n",
    "                    source_file = os.path.join(season_path, filename)\n",
    "                    output_file = os.path.join(destination_season_path, filename)\n",
    "\n",
    "                    # **Check if the output file already exists**\n",
    "                    if os.path.exists(output_file):\n",
    "                        print(f\"File already exists, skipping: {output_file}\")\n",
    "                        continue  # Skip this file as it's already processed\n",
    "\n",
    "                    # Command to burn subtitles, re-encode video, and exclude audio\n",
    "                    ffmpeg_command = [\n",
    "                        'ffmpeg',\n",
    "                        '-i', source_file,\n",
    "                        '-filter_complex', '[0:v][0:s:0]overlay',  # Overlay subtitles\n",
    "                        '-c:v', 'libx264',      # Re-encode with H.264\n",
    "                        '-preset', 'veryslow',      # Use veryslow preset for encoding speed\n",
    "                        '-crf', '18',           # Constant Rate Factor for quality\n",
    "                        '-g', '48',             # GOP size (keyframe interval)\n",
    "                        # '-movflags', '+faststart',  # Enable fast start for MP4\n",
    "                        '-an',                  # Exclude audio\n",
    "                        output_file\n",
    "                    ]\n",
    "\n",
    "                    try:\n",
    "                        # Execute the FFmpeg command\n",
    "                        print(f\"Processing {filename}...\")\n",
    "                        subprocess.run(ffmpeg_command, check=True)\n",
    "                        print(f\"Subtitled file created: {output_file}\")\n",
    "                    except subprocess.CalledProcessError as e:\n",
    "                        print(f\"Error processing {filename}: {e}\")\n",
    "\n",
    "        # Sleep for a while before rechecking\n",
    "        if mkv_part_found:\n",
    "            print(\"Waiting for .mkv.part files to complete...\")\n",
    "            time.sleep(600)  # Wait for 10 minutes before checking again\n",
    "\n"
   ]
  },
  {
   "cell_type": "code",
   "execution_count": null,
   "metadata": {},
   "outputs": [],
   "source": [
    "# Specify the source and destination directories\n",
    "source_directory = \"/media/coof/standardHDD/Veep (2012) Season 1-7 S01-S07 (1080p BluRay x265 HEVC 10bit AAC 5.1 Silence)\"  # Replace with the path to your directory containing seasons\n",
    "destination_directory = \"./Veep2\"\n",
    "\n",
    "# Call the function to burn subtitles\n",
    "burn_subtitles(source_directory, destination_directory)\n"
   ]
  }
 ],
 "metadata": {
  "kernelspec": {
   "display_name": "venv",
   "language": "python",
   "name": "python3"
  },
  "language_info": {
   "codemirror_mode": {
    "name": "ipython",
    "version": 3
   },
   "file_extension": ".py",
   "mimetype": "text/x-python",
   "name": "python",
   "nbconvert_exporter": "python",
   "pygments_lexer": "ipython3",
   "version": "3.10.12"
  }
 },
 "nbformat": 4,
 "nbformat_minor": 2
}
